{
 "cells": [
  {
   "cell_type": "markdown",
   "metadata": {},
   "source": [
    "# Creating and importing molecular systems in OpenMM"
   ]
  },
  {
   "cell_type": "markdown",
   "metadata": {},
   "source": [
    "## Preliminaries\n",
    "\n",
    "First, we import OpenMM. It's recommended that you always import this way:"
   ]
  },
  {
   "cell_type": "code",
   "execution_count": 1,
   "metadata": {
    "collapsed": true
   },
   "outputs": [],
   "source": [
    "from simtk import openmm, unit\n",
    "import numpy as np"
   ]
  },
  {
   "cell_type": "markdown",
   "metadata": {},
   "source": [
    "\n",
    "## The OpenMM `System` object\n",
    "\n",
    "The OpenMM [`System`](http://docs.openmm.org/7.1.0/api-python/library.html#system) object is a container that completely specifies how to compute the forces and energies for all particles in the molecular system. \n",
    "\n",
    "Because it is part of the C++ OpenMM API, `System` (and the related `Force` classes) are not true Python objects but instead SWIG-wrapped C++ objects, so you will find their naming and accessor conventions conform to C++ (rather than Pythonic) standards.\n",
    "\n",
    "There are many ways to create or import OpenMM `System` objects:\n",
    "* We can assemble all the particles and define their interactions ourselves programmatically using the OpenMM C++ API\n",
    "* We could load in a serialized version of the `System` object via the built-in XML serializer\n",
    "* We can use the various importers in the [`simtk.openmm.app`](http://docs.openmm.org/7.1.0/api-python/app.html) layer to read in a system definition in AMBER, CHARMM, or gromacs format\n",
    "* We can use [`parmed`](http://github.com/parmed/parmed) to create an OpenMM `System` object form a wide variety of additional formats\n",
    "* We can use a large variety of pre-built test systems provided by the [`openmmtools.testsystems`](http://openmmtools.readthedocs.io) module for testing code on a battery of different system types with different kinds of forces\n",
    "\n",
    "Remember that if you want more information on `openmm.System`, you can use `help(openmm.System)`:"
   ]
  },
  {
   "cell_type": "code",
   "execution_count": 2,
   "metadata": {},
   "outputs": [
    {
     "name": "stdout",
     "output_type": "stream",
     "text": [
      "Help on class System in module simtk.openmm.openmm:\n",
      "\n",
      "class System(builtins.object)\n",
      " |  This class represents a molecular system. The definition of a System involves four elements:\n",
      " |  \n",
      " |  \n",
      " |  \n",
      " |  \n",
      " |  The particles and constraints are defined directly by the System object, while forces are defined by objects that extend the Force class. After creating a System, call addParticle() once for each particle, addConstraint() for each constraint, and addForce() for each Force.\n",
      " |  \n",
      " |  In addition, particles may be designated as \"virtual sites\". These are particles whose positions are computed automatically based on the positions of other particles. To define a virtual site, call setVirtualSite(), passing in a VirtualSite object that defines the rules for computing its position.\n",
      " |  \n",
      " |  Methods defined here:\n",
      " |  \n",
      " |  __copy__(self)\n",
      " |      __copy__(self) -> System\n",
      " |  \n",
      " |  __deepcopy__(self, memo)\n",
      " |  \n",
      " |  __del__ lambda self\n",
      " |  \n",
      " |  __getattr__ lambda self, name\n",
      " |  \n",
      " |  __getstate__(self)\n",
      " |  \n",
      " |  __init__(self, *args)\n",
      " |      __init__(self) -> System\n",
      " |      __init__(self, other) -> System\n",
      " |      \n",
      " |      Create a new System.\n",
      " |  \n",
      " |  __repr__ = _swig_repr(self)\n",
      " |  \n",
      " |  __setattr__ lambda self, name, value\n",
      " |  \n",
      " |  __setstate__(self, serializationString)\n",
      " |  \n",
      " |  __swig_destroy__ = delete_System(...)\n",
      " |      delete_System(self)\n",
      " |  \n",
      " |  addConstraint(self, particle1, particle2, distance)\n",
      " |      addConstraint(self, particle1, particle2, distance) -> int\n",
      " |      \n",
      " |      Add a constraint to the System. Particles whose mass is 0 cannot participate in constraints.\n",
      " |      \n",
      " |      Parameters\n",
      " |      ----------\n",
      " |      particle1 : int\n",
      " |          the index of the first particle involved in the constraint\n",
      " |      particle2 : int\n",
      " |          the index of the second particle involved in the constraint\n",
      " |      distance : double\n",
      " |          the required distance between the two particles, measured in nm\n",
      " |      \n",
      " |      Returns\n",
      " |      -------\n",
      " |      int\n",
      " |          the index of the constraint that was added\n",
      " |  \n",
      " |  addForce(self, force)\n",
      " |      addForce(self, force) -> int\n",
      " |      \n",
      " |      Add a Force to the System. The Force should have been created on the heap with the \"new\" operator. The System takes over ownership of it, and deletes the Force when the System itself is deleted.\n",
      " |      \n",
      " |      Parameters\n",
      " |      ----------\n",
      " |      force : Force *\n",
      " |          a pointer to the Force object to be added\n",
      " |      \n",
      " |      Returns\n",
      " |      -------\n",
      " |      int\n",
      " |          the index within the System of the Force that was added\n",
      " |  \n",
      " |  addParticle(self, mass)\n",
      " |      addParticle(self, mass) -> int\n",
      " |      \n",
      " |      Add a particle to the System. If the mass is 0, Integrators will ignore the particle and not modify its position or velocity. This is most often used for virtual sites, but can also be used as a way to prevent a particle from moving.\n",
      " |      \n",
      " |      Parameters\n",
      " |      ----------\n",
      " |      mass : double\n",
      " |          the mass of the particle (in atomic mass units)\n",
      " |      \n",
      " |      Returns\n",
      " |      -------\n",
      " |      int\n",
      " |          the index of the particle that was added\n",
      " |  \n",
      " |  getConstraintParameters(self, index)\n",
      " |      getConstraintParameters(self, index)\n",
      " |      \n",
      " |      Get the parameters defining a distance constraint.\n",
      " |      \n",
      " |      Parameters\n",
      " |      ----------\n",
      " |      index : int\n",
      " |          the index of the constraint for which to get parameters\n",
      " |      \n",
      " |      Returns\n",
      " |      -------\n",
      " |      particle1 : int\n",
      " |          the index of the first particle involved in the constraint\n",
      " |      particle2 : int\n",
      " |          the index of the second particle involved in the constraint\n",
      " |      distance : double\n",
      " |          the required distance between the two particles, measured in nm\n",
      " |  \n",
      " |  getDefaultPeriodicBoxVectors(self)\n",
      " |      getDefaultPeriodicBoxVectors(self)\n",
      " |      \n",
      " |      Get the default values of the vectors defining the axes of the periodic box (measured in nm). Any newly created Context will have its box vectors set to these. They will affect any Force added to the System that uses periodic boundary conditions.\n",
      " |      \n",
      " |      Returns\n",
      " |      -------\n",
      " |      a : Vec3\n",
      " |          the vector defining the first edge of the periodic box\n",
      " |      b : Vec3\n",
      " |          the vector defining the second edge of the periodic box\n",
      " |      c : Vec3\n",
      " |          the vector defining the third edge of the periodic box\n",
      " |  \n",
      " |  getForce(self, *args)\n",
      " |      getForce(self, index) -> Force\n",
      " |      getForce(self, index) -> Force\n",
      " |      \n",
      " |      Get a writable reference to one of the Forces in this System.\n",
      " |      \n",
      " |      Parameters\n",
      " |      ----------\n",
      " |      index : int\n",
      " |          the index of the Force to get\n",
      " |  \n",
      " |  getForces(self)\n",
      " |      Get the list of Forces in this System\n",
      " |  \n",
      " |  getNumConstraints(self)\n",
      " |      getNumConstraints(self) -> int\n",
      " |      \n",
      " |      Get the number of distance constraints in this System.\n",
      " |  \n",
      " |  getNumForces(self)\n",
      " |      getNumForces(self) -> int\n",
      " |      \n",
      " |      Get the number of Force objects that have been added to the System.\n",
      " |  \n",
      " |  getNumParticles(self)\n",
      " |      getNumParticles(self) -> int\n",
      " |      \n",
      " |      Get the number of particles in this System.\n",
      " |  \n",
      " |  getParticleMass(self, index)\n",
      " |      getParticleMass(self, index) -> double\n",
      " |      \n",
      " |      Get the mass (in atomic mass units) of a particle. If the mass is 0, Integrators will ignore the particle and not modify its position or velocity. This is most often used for virtual sites, but can also be used as a way to prevent a particle from moving.\n",
      " |      \n",
      " |      Parameters\n",
      " |      ----------\n",
      " |      index : int\n",
      " |          the index of the particle for which to get the mass\n",
      " |  \n",
      " |  getVirtualSite(self, index)\n",
      " |      getVirtualSite(self, index) -> VirtualSite\n",
      " |      \n",
      " |      Get VirtualSite object for a particle. If the particle is not a virtual site, this throws an exception.\n",
      " |      \n",
      " |      Parameters\n",
      " |      ----------\n",
      " |      index : int\n",
      " |          the index of the particle to get\n",
      " |  \n",
      " |  isVirtualSite(self, index)\n",
      " |      isVirtualSite(self, index) -> bool\n",
      " |      \n",
      " |      Get whether a particle is a VirtualSite.\n",
      " |      \n",
      " |      Parameters\n",
      " |      ----------\n",
      " |      index : int\n",
      " |          the index of the particle to check\n",
      " |  \n",
      " |  removeConstraint(self, index)\n",
      " |      removeConstraint(self, index)\n",
      " |      \n",
      " |      Remove a constraint from the System.\n",
      " |      \n",
      " |      Parameters\n",
      " |      ----------\n",
      " |      index : int\n",
      " |          the index of the constraint to remove\n",
      " |  \n",
      " |  removeForce(self, index)\n",
      " |      removeForce(self, index)\n",
      " |      \n",
      " |      Remove a Force from the System. The memory associated with the removed Force object is deleted.\n",
      " |      \n",
      " |      Parameters\n",
      " |      ----------\n",
      " |      index : int\n",
      " |          the index of the Force to remove\n",
      " |  \n",
      " |  setConstraintParameters(self, index, particle1, particle2, distance)\n",
      " |      setConstraintParameters(self, index, particle1, particle2, distance)\n",
      " |      \n",
      " |      Set the parameters defining a distance constraint. Particles whose mass is 0 cannot participate in constraints.\n",
      " |      \n",
      " |      Parameters\n",
      " |      ----------\n",
      " |      index : int\n",
      " |          the index of the constraint for which to set parameters\n",
      " |      particle1 : int\n",
      " |          the index of the first particle involved in the constraint\n",
      " |      particle2 : int\n",
      " |          the index of the second particle involved in the constraint\n",
      " |      distance : double\n",
      " |          the required distance between the two particles, measured in nm\n",
      " |  \n",
      " |  setDefaultPeriodicBoxVectors(self, a, b, c)\n",
      " |      setDefaultPeriodicBoxVectors(self, a, b, c)\n",
      " |      \n",
      " |      Set the default values of the vectors defining the axes of the periodic box (measured in nm). Any newly created Context will have its box vectors set to these. They will affect any Force added to the System that uses periodic boundary conditions.\n",
      " |      \n",
      " |      Triclinic boxes are supported, but the vectors must satisfy certain requirements. In particular, a must point in the x direction, b must point \"mostly\" in the y direction, and c must point \"mostly\" in the z direction. See the documentation for details.\n",
      " |      \n",
      " |      Parameters\n",
      " |      ----------\n",
      " |      a : Vec3\n",
      " |          the vector defining the first edge of the periodic box\n",
      " |      b : Vec3\n",
      " |          the vector defining the second edge of the periodic box\n",
      " |      c : Vec3\n",
      " |          the vector defining the third edge of the periodic box\n",
      " |  \n",
      " |  setParticleMass(self, index, mass)\n",
      " |      setParticleMass(self, index, mass)\n",
      " |      \n",
      " |      Set the mass (in atomic mass units) of a particle. If the mass is 0, Integrators will ignore the particle and not modify its position or velocity. This is most often used for virtual sites, but can also be used as a way to prevent a particle from moving.\n",
      " |      \n",
      " |      Parameters\n",
      " |      ----------\n",
      " |      index : int\n",
      " |          the index of the particle for which to set the mass\n",
      " |      mass : double\n",
      " |          the mass of the particle\n",
      " |  \n",
      " |  setVirtualSite(self, index, virtualSite)\n",
      " |      setVirtualSite(self, index, virtualSite)\n",
      " |      \n",
      " |      Set a particle to be a virtual site. The VirtualSite object should have been created on the heap with the \"new\" operator. The System takes over ownership of it, and deletes it when the System itself is deleted.\n",
      " |      \n",
      " |      Parameters\n",
      " |      ----------\n",
      " |      index : int\n",
      " |          the index of the particle that should be treated as a virtual site\n",
      " |      virtualSite : VirtualSite *\n",
      " |          a pointer to the VirtualSite object describing it\n",
      " |  \n",
      " |  usesPeriodicBoundaryConditions(self)\n",
      " |      usesPeriodicBoundaryConditions(self) -> bool\n",
      " |      \n",
      " |      Returns whether or not any forces in this System use periodic boundaries.\n",
      " |      \n",
      " |      If a force in this System does not implement usesPeriodicBoundaryConditions a OpenMM::OpenMMException is thrown\n",
      " |      \n",
      " |      Returns\n",
      " |      -------\n",
      " |      bool\n",
      " |          true if at least one force uses PBC and false otherwise\n",
      " |  \n",
      " |  ----------------------------------------------------------------------\n",
      " |  Data descriptors defined here:\n",
      " |  \n",
      " |  __dict__\n",
      " |      dictionary for instance variables (if defined)\n",
      " |  \n",
      " |  __weakref__\n",
      " |      list of weak references to the object (if defined)\n",
      " |  \n",
      " |  ----------------------------------------------------------------------\n",
      " |  Data and other attributes defined here:\n",
      " |  \n",
      " |  __swig_getmethods__ = {}\n",
      " |  \n",
      " |  __swig_setmethods__ = {}\n",
      "\n"
     ]
    }
   ],
   "source": [
    "help(openmm.System)"
   ]
  },
  {
   "cell_type": "markdown",
   "metadata": {},
   "source": [
    "## Creating a periodic Lennard-Jones system\n",
    "\n",
    "We'll start by building a simple periodic Lennard-Jones system using the Python wrappers for the main OpenMM C++ API."
   ]
  },
  {
   "cell_type": "code",
   "execution_count": 3,
   "metadata": {
    "collapsed": true
   },
   "outputs": [],
   "source": [
    "# Define the parameters of the Lennard-Jones periodic system\n",
    "nparticles = 512\n",
    "reduced_density = 0.05\n",
    "mass = 39.9 * unit.amu\n",
    "charge = 0.0 * unit.elementary_charge\n",
    "sigma = 3.4 * unit.angstroms\n",
    "epsilon = 0.238 * unit.kilocalories_per_mole\n",
    "\n",
    "# Create a system and add particles to it\n",
    "system = openmm.System()\n",
    "for index in range(nparticles):\n",
    "    system.addParticle(mass)\n",
    "    \n",
    "# Set the periodic box vectors\n",
    "number_density = reduced_density / sigma**3\n",
    "volume = nparticles * (number_density ** -1)\n",
    "box_edge = volume ** (1. / 3.)\n",
    "box_vectors = np.diag([box_edge/unit.angstrom for i in range(3)]) * unit.angstroms\n",
    "system.setDefaultPeriodicBoxVectors(*box_vectors)\n",
    "\n",
    "# Add Lennard-Jones interactions using a NonbondedForce\n",
    "force = openmm.NonbondedForce()\n",
    "force.setNonbondedMethod(openmm.NonbondedForce.CutoffPeriodic)\n",
    "for index in range(nparticles): # all particles must have parameters assigned\n",
    "    force.addParticle(charge, sigma, epsilon)\n",
    "force.setCutoffDistance(3.0 * sigma) # set cutoff (truncation) distance at 3*sigma\n",
    "force.setUseSwitchingFunction(True) # use a smooth switching function to avoid force discontinuities at cutoff\n",
    "force.setSwitchingDistance(2.5 * sigma) # turn on switch at 2.5*sigma\n",
    "force.setUseDispersionCorrection(True) # use long-range isotropic dispersion correction\n",
    "force_index = system.addForce(force) # system takes ownership of the NonbondedForce object"
   ]
  },
  {
   "cell_type": "markdown",
   "metadata": {},
   "source": [
    "### The OpenMM Python API uses units throughout\n",
    "\n",
    "Note the use of unit-bearing quantities via [`simtk.unit`](). OpenMM's Python API uses a powerful units system that prevents many common kinds of mistakes with unit conversion, such as those that caused the loss of the [Mars Polar Lander](). We'll examine the units system in more detail later---for now, we simply recognize that best practices dictate we feed OpenMM unit-bearing quantities (though this is not strictly necessary), and that it will return unit-bearing quantities."
   ]
  },
  {
   "cell_type": "markdown",
   "metadata": {},
   "source": [
    "## Accesssors for System attributes and Forces\n",
    "\n",
    "The [`System`](http://docs.openmm.org/7.1.0/api-python/generated/simtk.openmm.openmm.System.html#simtk.openmm.openmm.System) object has a number of useful accessors for examining the contents of the system and "
   ]
  },
  {
   "cell_type": "code",
   "execution_count": 4,
   "metadata": {},
   "outputs": [
    {
     "name": "stdout",
     "output_type": "stream",
     "text": [
      "The system has 512 particles\n",
      "Particle     0 has mass       39.900 amu\n",
      "Particle     1 has mass       39.900 amu\n",
      "Particle     2 has mass       39.900 amu\n",
      "Particle     3 has mass       39.900 amu\n",
      "Particle     4 has mass       39.900 amu\n",
      "The system has 0 constraints\n",
      "There are 1 forces\n",
      "Force     0 : NonbondedForce\n"
     ]
    }
   ],
   "source": [
    "# Get the number of particles in the System\n",
    "print('The system has %d particles' % system.getNumParticles())\n",
    "# Print a few particle masses\n",
    "for index in range(5):\n",
    "    print('Particle %5d has mass %12.3f amu' % (index, system.getParticleMass(index) / unit.amu))\n",
    "# Print number of constraints\n",
    "print('The system has %d constraints' % system.getNumConstraints())\n",
    "# Get the number of forces and iterate through them\n",
    "print('There are %d forces' % system.getNumForces())\n",
    "for (index, force) in enumerate(system.getForces()):\n",
    "    print('Force %5d : %s' % (index, force.__class__.__name__))"
   ]
  },
  {
   "cell_type": "markdown",
   "metadata": {},
   "source": [
    "### Define positions for the Lennard-Jones particles\n",
    "\n",
    "To compute energies or forces, we will need to define some positions for the system before we can compute energies or forces.\n",
    "We'll generate some randomly, but as we will see later, there are many more ways to load molecular positions."
   ]
  },
  {
   "cell_type": "code",
   "execution_count": 5,
   "metadata": {
    "collapsed": true
   },
   "outputs": [],
   "source": [
    "positions = box_edge * np.random.rand(nparticles,3) * unit.angstroms"
   ]
  },
  {
   "cell_type": "markdown",
   "metadata": {},
   "source": [
    "## Computing energies and forces\n",
    "\n",
    "To compute energies and forces efficiently, OpenMM requires you create a [`Context`](http://docs.openmm.org/7.1.0/api-python/generated/simtk.openmm.openmm.Context.html#simtk.openmm.openmm.Context) that handles the computation on a particular piece of hardware. This could be a GPU or CPU using a specific set of fast computation kernels.\n",
    "\n",
    "OpenMM forces us to explicitly move data (positions, velocities, forces) into and out of the `Context` through specific calls so that we remember that each of these operations carries overhead of moving data across the bus to the GPU, for example. To achieve maximum speed, OpenMM can perform a number of operations---such as integrating many molecular dynamics steps---fully on the GPU without slowing things down by moving data back and forth over the bus. We'll see examples of this soon.\n",
    "\n",
    "First, we just want to compute energies and forces and then minimize the energy of our system. To do that, we first need to create an [`Integrator`](http://docs.openmm.org/7.1.0/userguide/application.html#integrators) that will be bound to the [`Context`](http://docs.openmm.org/7.1.0/api-python/generated/simtk.openmm.openmm.Context.html#simtk.openmm.openmm.Context):"
   ]
  },
  {
   "cell_type": "code",
   "execution_count": 6,
   "metadata": {
    "collapsed": true
   },
   "outputs": [],
   "source": [
    "# Create an integrator\n",
    "timestep = 1.0 * unit.femtoseconds\n",
    "integrator = openmm.VerletIntegrator(timestep)\n",
    "# Create a Context using the default platform (the fastest abailable one is picked automatically)\n",
    "# NOTE: The integrator is bound irrevocably to the context, so we can't reuse it\n",
    "context = openmm.Context(system, integrator)"
   ]
  },
  {
   "cell_type": "markdown",
   "metadata": {},
   "source": [
    "We can also specify which platform we want. OpenMM comes with the following platforms:\n",
    "* [`Reference`](http://docs.openmm.org/7.1.0/userguide/library.html#platforms) - A slow double-precision single-threaded CPU-only implementation intended for comparing fast implementations with a \"verifiably correct\" one\n",
    "* [`CPU`](http://docs.openmm.org/7.1.0/userguide/library.html#cpu-platform) - A fast multithreaded mixed-precision CPU-only implementation\n",
    "* [`OpenCL`](http://docs.openmm.org/7.1.0/userguide/library.html#opencl-platform) - A highly portable OpenCL implementation that can be used with GPU or CPU OpenCL drivers; supports multiple precision models (single, mixed, double)\n",
    "* [`CUDA`](http://docs.openmm.org/7.1.0/userguide/library.html#cuda-platform) - The fastest implementation that uses [CUDA](https://developer.nvidia.com/cuda-downloads) for NVIDIA GPUs; supports multiple precision models (single, mixed, double)"
   ]
  },
  {
   "cell_type": "code",
   "execution_count": 7,
   "metadata": {},
   "outputs": [],
   "source": [
    "# We have to create a new integrator for every Context since it takes ownership of the integrator we pass it\n",
    "integrator = openmm.VerletIntegrator(timestep)\n",
    "# Create a Context using the multithreaded mixed-precision CPU platform\n",
    "platform = openmm.Platform.getPlatformByName('CPU')\n",
    "context = openmm.Context(system, integrator, platform)"
   ]
  },
  {
   "cell_type": "markdown",
   "metadata": {},
   "source": [
    "Once we have a [`Context`](http://docs.openmm.org/7.1.0/api-python/generated/simtk.openmm.openmm.Context.html#simtk.openmm.openmm.Context), we need to tell OpenMM we want to retrieve the energy and forces for a specific set of particle positions. This is done by retrieving a [`State`](http://docs.openmm.org/7.1.0/api-python/generated/simtk.openmm.openmm.State.html#simtk.openmm.openmm.State) object from the [`Context`](http://docs.openmm.org/7.1.0/api-python/generated/simtk.openmm.openmm.Context.html#simtk.openmm.openmm.Context) that contains *only* the information we want to retrieve so as to minimize the amount of data that needs to be sent over the bus from a GPU:"
   ]
  },
  {
   "cell_type": "code",
   "execution_count": 8,
   "metadata": {},
   "outputs": [
    {
     "name": "stdout",
     "output_type": "stream",
     "text": [
      "Potential energy: 9.793183425006675e+17 kJ/mol\n",
      "Forces: [(-4462567489536.0, -3662756184064.0, 650621681664.0), (-54740566016.0, 54102409216.0, 88818155520.0), (-600674336768.0, -393414246400.0, -479606734848.0), (-64544156155904.0, 7267526115328.0, 31252256129024.0), (-1081567215616.0, -3278578122752.0, -3665023205376.0), (862818396012544.0, 1731530695114752.0, -538695031586816.0), (529676372017152.0, -1988236326993920.0, 827484236939264.0), (-62632472576.0, 46523260928.0, -169604972544.0), (1405276127232.0, 73624471994368.0, 37475103801344.0), (6382225920.0, 12382764032.0, 18732367872.0), (-1482218240.0, -7706669568.0, -10610440192.0), (93055279104.0, -5987040231424.0, 327769915392.0), (-586993303552.0, -394309009408.0, -112394649600.0), (1250035367936.0, -1361818025984.0, -3097512378368.0), (-4396791365632.0, -9385254322176.0, -19810924625920.0), (40102596182016.0, -24740655792128.0, 36800722632704.0), (-26686681088.0, -15375218688.0, -15906343936.0), (-104130822144.0, -141798096896.0, -9630008320.0), (3.6551776288741786e+17, 7.71376212260946e+16, -3.557264056836424e+17), (42321475272704.0, 182577499471872.0, -44509438148608.0), (-38773325824.0, 84966825984.0, -20305453056.0), (-10089806848.0, 86816612352.0, 1604433920.0), (26628896768.0, 38661447680.0, -232925020160.0), (118821658624.0, -166800818176.0, -479174590464.0), (-4165373952.0, -4028717056.0, 100583399424.0), (57888534528.0, -90309648384.0, 231222984704.0), (-594195972096.0, 211037290496.0, 139660853248.0), (64608698105856.0, 181277936320512.0, 253685867216896.0), (-187301609472.0, -59095093248.0, -38136430592.0), (-5774462733516800.0, -561130397237248.0, -1.2474761502261248e+16), (1097124544512.0, -622808465408.0, 400635265024.0), (-1.873217289423369e+19, 6.464119019648582e+18, -1.2378383269362663e+19), (-42775859200.0, -118302064640.0, 45318418432.0), (20203986944.0, 226204975104.0, -72373747712.0), (-8998711459840.0, 6692358062080.0, 34706378719232.0), (1299350416261120.0, 1.7776290891300864e+16, 1.2042241115684864e+16), (-89567117312.0, -282190217216.0, 90514137088.0), (-383550160896.0, 599848452096.0, 1821138878464.0), (-7455006261248.0, 2194370985984.0, -5773501399040.0), (488953874481152.0, -1177927798489088.0, 270172636053504.0), (-164095953207296.0, -1147610563870720.0, 1117952002752512.0), (-2.8505819920623206e+17, -7.432585903823913e+17, -2.898811897816023e+17), (701018210304.0, 1255442743296.0, -1585261445120.0), (1046002176.0, -489585920.0, 2412173312.0), (46094532739072.0, 55566474936320.0, 78952051769344.0), (2836586037248.0, -3956749107200.0, 738648850432.0), (-2.5550165590933504e+16, 7420071399915520.0, 3247273643343872.0), (5.2367265369613035e+20, 3.1093200152649584e+20, -6.927352504328284e+20), (3287361257472.0, 598683942912.0, 79031902208.0), (-246929752064.0, -733917806592.0, -181214183424.0), (-264244104790016.0, -265907850969088.0, 111790927118336.0), (908933376.0, 1297695232.0, -104099664.0), (11502237696.0, -187705163776.0, -113980760064.0), (11546599096320.0, 3067919728640.0, 54277322047488.0), (6897446912.0, 161884307456.0, 82098257920.0), (15883685593088.0, 13685128953856.0, 9090746023936.0), (3237829815566336.0, -5388927141675008.0, 1586310468861952.0), (-2158275072.0, 411644864.0, -1422206720.0), (-8526351564800.0, 413529997312.0, -5008083386368.0), (1555115540480.0, -2995611238400.0, 273159962624.0), (-6040592865820672.0, -1.3179561340567552e+16, 2529367175462912.0), (-47654121766912.0, -109106773884928.0, -103837520101376.0), (-1533316038656.0, 3924003651584.0, -2966441951232.0), (1.092665986777088e+16, -18956280659968.0, -481491939229696.0), (479677056.0, -776449856.0, 716461504.0), (3941179565539328.0, 7609942777266176.0, 2584010433757184.0), (-863107098345472.0, -1731933885169664.0, 538800258285568.0), (268828327936.0, 3205044371456.0, -1287253655552.0), (-35189367504896.0, 4473647267840.0, -67948404277248.0), (-185350062080.0, 84661346304.0, 251537260544.0), (-74165043200.0, 40604286976.0, 3339211776.0), (7091175936.0, 6685324800.0, 9097305088.0), (529152768.0, 144956304.0, -2844150272.0), (59273269248.0, 21486813184.0, -29186883584.0), (-442310590464.0, 76087459840.0, -121091866624.0), (-188445540352.0, -1749292941312.0, 1425901223936.0), (3.755698933255373e+16, -1.3883899469889536e+16, -2.8019275717410816e+16), (-41693717987328.0, 51159255482368.0, -108226934734848.0), (-1643844730880.0, 916129251328.0, 1465865863168.0), (5093774589952.0, -1829512151040.0, 12956296282112.0), (-616583552.0, 993406464.0, -1076103424.0), (2856851079168.0, 2787618586624.0, 1652435976192.0), (1522887819264.0, 2407088521216.0, -957244047360.0), (-58133729280.0, -60875395072.0, 29464846336.0), (-11983673884672.0, -40812171755520.0, -46230981836800.0), (-1.42504446490837e+17, 1.8162370784348078e+18, -8.411265670473318e+16), (2.4248307316424704e+16, -1.6331702263611392e+16, 1701715434799104.0), (2714759438794752.0, 6679424690814976.0, -1.0537097744089088e+16), (-14602670702592.0, -53043265536000.0, -3263802638336.0), (-630830661632.0, 24872484864.0, 166210715648.0), (115211944067072.0, -59084799737856.0, 2304639238144.0), (-2593507411755008.0, -5954730027122688.0, 1514948379279360.0), (32929728167936.0, -40891444101120.0, 8240627187712.0), (158130782208.0, 164711841792.0, 38751539200.0), (-14478489600.0, -627696128.0, 5519838208.0), (-46086618087424.0, -55550414946304.0, -78937187155968.0), (-248180071464960.0, 998680962269184.0, 48161758380032.0), (-140810880.0, -121201536.0, 2585102592.0), (-48472043520.0, 335771402240.0, -410512228352.0), (-3.755698933255373e+16, 1.388390054363136e+16, 2.8019275717410816e+16), (-1344056730845184.0, 9425287477460992.0, -1147344410116096.0), (21045975040.0, 16219111424.0, -13012262912.0), (-27138222718976.0, 63669266284544.0, 47690020814848.0), (-1299312835297280.0, -1.7776043930681344e+16, -1.2042366743478272e+16), (1033732794351616.0, -1260734499520512.0, 446419504726016.0), (22727167574016.0, -581407670272.0, 91061141504.0), (-286676287488.0, 1733104107520.0, -67992821760.0), (-33185582809088.0, 41816682397696.0, -6557333979136.0), (-3237868470272000.0, 5388931436642304.0, -1586319193014272.0), (338048688586752.0, 212798466424832.0, -31550370480128.0), (2867714304.0, 10813231104.0, 1753980416.0), (2272160000.0, -1601316736.0, -3400246272.0), (11258059292672.0, -53297786880.0, 3782598983680.0), (-636522072113152.0, -186898135908352.0, -177224326053888.0), (91116806144.0, 143223455744.0, 10940483584.0), (-200261312.0, -145915472.0, 48250236.0), (845018304.0, -571319040.0, 281680928.0), (29484824576.0, -2975233024.0, -9142083584.0), (22591858688.0, 35301756928.0, 21485776896.0), (27827248300032.0, 2881346076672.0, 44479088164864.0), (456656158720.0, -383552847872.0, -203461001216.0), (-16796489875456.0, -595277709312.0, 14204181413888.0), (-70462808064.0, 63822880768.0, -18000310272.0), (50296877056.0, -75895029760.0, -19523643392.0), (3213063356416.0, 2948904517632.0, -4858620411904.0), (-38871328882688.0, -38969601425408.0, 42239979945984.0), (3317675264.0, 291471552.0, -1846402048.0), (110211746496512.0, -43997775003648.0, 132703282266112.0), (18054792609792.0, -19491058614272.0, 51257423167488.0), (1004211863552.0, 121483927552.0, -309174960128.0), (-396779323392.0, 56146427904.0, -249010421760.0), (1721815168.0, 11371157504.0, -2890867712.0), (882336202752.0, -520811839488.0, 99198484480.0), (-145712000008192.0, -204306644992000.0, 57732686151680.0), (2327201447936.0, -6703156822016.0, 2020454957056.0), (-203497619456.0, 421468241920.0, 161455767552.0), (513802534912.0, 746296836096.0, 117422833664.0), (-7531780374528.0, 3223745986560.0, -2276976230400.0), (-22223745024.0, -109751173120.0, -142733148160.0), (187673149440.0, 12425745408.0, 383125749760.0), (3053829658509312.0, -833395856769024.0, 1895869834067968.0), (-35465052160.0, -22689824768.0, -6945055232.0), (-529739454349312.0, 1988193511538688.0, -827879910801408.0), (43709580181504.0, 156505118605312.0, -61122401009664.0), (1954572664832.0, -851751665664.0, 675672752128.0), (-12574997504.0, 1725038080.0, 1870199424.0), (-60542300160.0, -126090346496.0, -46319095808.0), (105203277824.0, 140085690368.0, 12847561728.0), (8356738105344.0, 79055038709760.0, -57090320105472.0), (2114265600.0, -9613268992.0, -213150976.0), (-17652744192.0, 121569886208.0, 121630195712.0), (-2572228755456.0, 5640814592.0, 4113110401024.0), (-2224398848.0, -33566171136.0, -25331869696.0), (435349327183872.0, 981359292055552.0, 225599348015104.0), (-3911009030897664.0, -7092435188449280.0, -5524618043457536.0), (887793057792.0, 6607890022400.0, -12262898139136.0), (8014227570688.0, 2833991598080.0, 5330116804608.0), (1.4250328684966707e+17, -1.81623597892318e+18, 8.411075832918835e+16), (-2426286080.0, -864525760.0, 2554488832.0), (-47045708611584.0, -34810351321088.0, 4610569273344.0), (-2.915362296593121e+17, 4.0009699126411264e+17, 2.0438431665697587e+17), (-680271616.0, -1714019456.0, 1886690304.0), (-2832617728.0, 3297010176.0, -2742713344.0), (38595268608.0, -56810414080.0, -30486722560.0), (4.9031783019813274e+17, 3.939171174407209e+17, 2.4199385491439616e+16), (-33391114240.0, 66900709376.0, -19340945408.0), (-37719646208.0, 19611936768.0, 42462326784.0), (-598618560.0, 17173773312.0, -2593248768.0), (-593545003008.0, -328814788608.0, -343619764224.0), (-526775910400.0, 457384624128.0, 194783019008.0), (1303027200.0, -6159093760.0, -2000495488.0), (15958146048.0, 65473433600.0, 3206803456.0), (19634163712.0, -16826739712.0, -58402455552.0), (-427388862464.0, 4668301246464.0, 5524911816704.0), (-27345541120.0, 472780406784.0, 9760633856.0), (320708116480.0, -582557499392.0, 982999367680.0), (-5315822616576.0, -75686769328128.0, 63051143315456.0), (-127443697664.0, -364096978944.0, 8659330048.0), (-2006947069952.0, 708410081280.0, -2598615121920.0), (2.122583360353075e+16, -1.0322946379743232e+16, -3.091653610124083e+16), (871689216.0, 14662222848.0, -13764939776.0), (-27729141432320.0, -10305184727040.0, 116666931347456.0), (-1240398036992.0, -2574335868928.0, 1005550305280.0), (2738330796032.0, -1228860030976.0, 1610327916544.0), (49540258332672.0, -133195961991168.0, 54440102985728.0), (612700258304.0, -192777289728.0, -150498852864.0), (852836745216.0, 2908132212736.0, -681379430400.0), (627668466794496.0, -253397886304256.0, 893444599840768.0), (-153559613440.0, -53835030528.0, 66156720128.0), (1.915878395556659e+16, 2.922510281814835e+16, -2.220089855390515e+16), (-3456692480.0, -3017948928.0, -1232840064.0), (-1342292754432.0, 838995542016.0, 1712189734912.0), (-14409033728.0, 1020218368.0, 5163520.0), (-22573593133056.0, -117774852096.0, -490002874368.0), (-332546048000.0, -51690536960.0, -372036337664.0), (90127171584.0, -72893203480576.0, -35803682045952.0), (1903073689600.0, -1493923135488.0, -4635122204672.0), (-3744552960.0, -3089137139712.0, 1323357437952.0), (-85381349376.0, -8388555776.0, 85803163648.0), (52249600.0, -26498390.0, -7255720.5), (8020238848.0, 5078554112.0, 4312584704.0), (-1121422202109952.0, 5002359147069440.0, 3096103410991104.0), (-8877188984078336.0, 1.1580596555874304e+16, 3.1646066361237504e+16), (1673546039296.0, 9827455598592.0, -12130955821056.0), (40851128320.0, 22870861824.0, 1940529280.0), (-49558355968.0, 4180739883008.0, 1196509757440.0), (1344571992702976.0, -9425302509846528.0, 1147426819801088.0), (40282030080.0, -4098945187840.0, -1297132158976.0), (576814710784.0, 135953866752.0, -306315624448.0), (503002779615232.0, 396583355023360.0, 1173495123804160.0), (4464876453888.0, 14681428197376.0, -12297246343168.0), (-516463136.0, -53320144.0, -243753456.0), (120029269983232.0, 72128573472768.0, -63045757829120.0), (156666904576.0, -107576049664.0, 134264225792.0), (-1022367505580032.0, 1264507762507776.0, -462664983642112.0), (294974336.0, 1097160448.0, -153390048.0), (-518232263884800.0, -406782660837376.0, -1182005064630272.0), (9570947694592.0, -11536320954368.0, -34034428149760.0), (-11035392000.0, 594009128960.0, 72364646400.0), (277642051584.0, -131873120256.0, 255551766528.0), (17941176320.0, 7848542720.0, -15831324672.0), (62355652214784.0, -43385050103808.0, -68372779761664.0), (-92196347904.0, 60191502336.0, 71539195904.0), (-17887324536832.0, 19564404408320.0, -51260698918912.0), (642836135936.0, -148445495296.0, -67883094016.0), (3096533270528.0, 2503134412800.0, -4813753942016.0), (2359958528.0, -869000320.0, -1308501248.0), (7138002862080.0, -22597498568704.0, 6307474571264.0), (1377981568.0, 7657420800.0, 10668204032.0), (148316896.0, 3621414400.0, -1296931072.0), (-22865838080.0, 6009057280.0, 24017004544.0), (68998859325440.0, 1547189092352.0, -24346194083840.0), (10568835530752.0, -2162043912192.0, 15721250684928.0), (-56790754525184.0, -928187731148800.0, -486376927657984.0), (-44389650432.0, -202350198784.0, 1238798336.0), (-206970126336.0, -388955471872.0, 519742455808.0), (-1457579264.0, -419125088.0, 83832624.0), (-328569595101184.0, 486676937834496.0, -814570478239744.0), (-11175361249280.0, -5121006108672.0, 17591534878720.0), (181579792384.0, 235469258752.0, -345908477952.0), (1222511303852032.0, 8111562745184256.0, 1.2247256010850304e+16), (5539248472064.0, -21205941747712.0, -13148398551040.0), (408127963136.0, 1364231323648.0, -1615610773504.0), (-490555695955968.0, 7011108913152.0, 256257411776512.0), (208497393664.0, 389832900608.0, -522296852480.0), (-7946000882728960.0, 1.2454516100169728e+16, -9951213739048960.0), (177189437440.0, 244577583104.0, -1706042327040.0), (1883532820480.0, 1295444475904.0, -315887058944.0), (-4122132873216.0, 4003926900736.0, -12251361705984.0), (1.3549668336140288e+16, -3.586050946288845e+16, 1.4069340051603456e+16), (-131549806592.0, 34074720256.0, -8472809472.0), (-1085390913536.0, 6644192772096.0, 145764335616.0), (284277440512.0, 219813642240.0, -308994375680.0), (178781814784.0, -122212794368.0, -105597566976.0), (-225178484736.0, 122128039936.0, -232831582208.0), (-61263294464.0, -99017220096.0, 24500897792.0), (12316179431424.0, -22914566979584.0, 31591233486848.0), (-332124160000.0, 170943348736.0, -6575132160.0), (2183676690432.0, 1987226107904.0, -2697671737344.0), (48715322621952.0, -8119730569216.0, -59859613515776.0), (9515869411475456.0, -1.1396145964122112e+16, -3.147211374329856e+16), (-824223399936.0, -768724762624.0, 897968701440.0), (-108507458174976.0, -125887831867392.0, -41857899823104.0), (14488926420992.0, 53068368445440.0, 3256398381056.0), (355772810657792.0, 1007234523856896.0, -728259016785920.0), (4591421227008.0, 12284246097920.0, 5707022204928.0), (21605763072.0, -15363888128.0, 87087104.0), (31111292928.0, -145936121856.0, -253316022272.0), (-23576612864.0, 19281049600.0, -20524570624.0), (4.9071640316320154e+17, -6.103422031133409e+17, 2.120042998866641e+18), (-2.424817202495488e+16, 1.6331622806716416e+16, -1701781738356736.0), (39266633646080.0, 106044940353536.0, 92562358534144.0), (228772429824.0, 383813615616.0, 101326094336.0), (97710751744.0, 224297713664.0, -104585519104.0), (-637830561792.0, 2438265044992.0, -530959106048.0), (64772166909952.0, -30063009464320.0, -91095669145600.0), (-3.655168351744819e+17, -7.71398717889577e+16, 3.557269897991946e+17), (-6908433924096.0, 642725380096.0, -853102034944.0), (-875681087488.0, 4919395352576.0, -357184962560.0), (5772911713452032.0, 561295250161664.0, 1.247487209766912e+16), (1117218304.0, -1572681216.0, 2597798912.0), (-2214450944.0, 503127520.0, -1429109248.0), (-11649154023424.0, -3011732832256.0, -54200851496960.0), (-24749531136.0, -7167475712.0, 3551782400.0), (-52442468352.0, -182629122048.0, -37397274624.0), (-8.070797428166492e+17, -9.320742175270502e+16, 8.65582213909971e+17), (1554708561920.0, -6590057938944.0, -489393094656.0), (4625604804608.0, 9833903292416.0, 18602992336896.0), (-146520275943424.0, -849940674772992.0, -1336269418266624.0), (140612059136.0, -499079512064.0, 68455284736.0), (-3858767733063680.0, 2.1382297114640384e+16, -179230444879872.0), (-300905173876736.0, -236042745544704.0, -79618535063552.0), (-5.2367268888050244e+20, -3.1093193115775166e+20, 6.927353208015726e+20), (20432809984.0, -53170147328.0, 21018947584.0), (85825626112.0, 405079588864.0, 944416948224.0), (18280376320.0, -70909714432.0, 5023214080.0), (-18787596238848.0, -21681114447872.0, -59081876307968.0), (33053960192.0, -452337467392.0, -70580002816.0), (743555399680.0, -1072351936512.0, -313740886016.0), (-2043360182272.0, 741031346176.0, 816413999104.0), (-1786211336192.0, -792766840832.0, -1677712949248.0), (-57890615296.0, -7556891136.0, -62796406784.0), (253502668800.0, -82544910336.0, -327843676160.0), (-9493110784.0, 10849616896.0, -31427205120.0), (-105622590717952.0, -113252012916736.0, 147794941706240.0), (63159452827648.0, 1353798123520.0, -39123905675264.0), (-5096671744.0, -3411828224.0, 986230784.0), (2783496634368.0, 163081158656.0, 332380471296.0), (-136064598016.0, -115052732416.0, -402904121344.0), (-109972838940672.0, 46646146629632.0, -131991483711488.0), (-547495215104.0, -3979204886528.0, -7810179923968.0), (646196559872.0, -1356367265792.0, 682188472320.0), (21218476032.0, -104754429952.0, 18234112000.0), (108198043648.0, 50576986112.0, 40735260672.0), (27142930825216.0, 74699044290560.0, -88409175490560.0), (4623183872.0, -6779515904.0, -169301888.0), (2152726784.0, -61415308.0, 2011105792.0), (-42338646753280.0, -182576744497152.0, 44532259356672.0), (145502855233536.0, 204357026971648.0, -58137029640192.0), (70182642909184.0, -61769334652928.0, 96445302571008.0), (-1073594630144.0, -841829646336.0, -958224400384.0), (532219428864.0, 461013417984.0, 515223027712.0), (1786183424.0, 8340527104.0, 9759314944.0), (-23231666176.0, 17268191232.0, 56729219072.0), (-1783916003328.0, 2614102589440.0, 3466337714176.0), (145551324610560.0, 848187925463040.0, 1337385036021760.0), (-3693138411520.0, 3665750654976.0, -1884730425344.0), (668609937408.0, 109423394816.0, -9060447232.0), (-2033292949848064.0, -333051192147968.0, 1890560583401472.0), (-60186383351808.0, 42015488212992.0, 70170345209856.0), (-4506405376.0, -1265394560.0, 9642765312.0), (48453210112.0, -45841989632.0, 170905141248.0), (-72328904704.0, -97017585664.0, 256695336960.0), (-48743596425216.0, 8087154982912.0, 59854467104768.0), (6700237062144.0, -720391962624.0, 448527400960.0), (-4009792110592.0, 452091707392.0, 4813564149760.0), (-76129041907712.0, 48764974792704.0, -79923142197248.0), (-2055582121984.0, -2029392101376.0, 2688155648000.0), (2620965406113792.0, 5965190419972096.0, -1631674718748672.0), (96417521664.0, 16803080192.0, -92875161600.0), (1832266629120.0, 5875190726656.0, 216285839360.0), (-2.4189336556457165e+17, -1.7081677641678848e+17, 2.603890409293742e+17), (3461781127168.0, -3800583110656.0, 1779892879360.0), (-714975805440.0, -2127868329984.0, -626411175936.0), (-1537569325056.0, -22207252135936.0, -9372789899264.0), (4.10738270956159e+17, -1.0497085614011187e+17, -1.4937320729870336e+17), (27682695806976.0, -64675374956544.0, -47859437142016.0), (-29744015867904.0, 54339309666304.0, 7134072274944.0), (-2767280144384.0, 96736932528128.0, 185476652728320.0), (-258971156480.0, -2681402032128.0, 752932028416.0), (133083772747776.0, 128603769536512.0, -121589391687680.0), (2015365955584.0, 496541204480.0, 285254221824.0), (-2844242432.0, -3534538240.0, 2894495232.0), (-4010865946787840.0, -7548495753904128.0, -2682365184835584.0), (21255107379200.0, -348788992507904.0, 255779529555968.0), (-50536042496.0, 47982120960.0, 34877644800.0), (14430402560.0, -60820967424.0, -18709026816.0), (322942315528192.0, -69733634277376.0, 426486930604032.0), (-197551702016.0, 258430779392.0, 14264652800.0), (1527759896576.0, 36481327104.0, -125199482880.0), (-2.114140528390963e+16, 1.0303235701080064e+16, 3.0824567966531584e+16), (-3090066944.0, 514065888.0, 963185792.0), (-3992945152.0, -35836989440.0, 20267347968.0), (26683757297664.0, -54911110742016.0, -8132015161344.0), (-21642977738752.0, 348398586691584.0, -255839742984192.0), (-13869475954688.0, 7289525764096.0, 14300796157952.0), (-5226753536.0, -137687678976.0, 184087740416.0), (-889726902992896.0, 661314233958400.0, -420894245650432.0), (353268793344.0, -99573071872.0, -278928130048.0), (-5370587648.0, 596837056.0, -302914272.0), (60170059120640.0, -46909901242368.0, -20678956810240.0), (881254465536.0, 791661641728.0, -1004945211392.0), (165023072256.0, 226848161792.0, -379416444928.0), (-652847022080.0, -1768189067264.0, -463742730240.0), (-549825609728.0, -285351837696.0, -277034729472.0), (-355864313856.0, 99411525632.0, 279604133888.0), (-41190084608.0, -115601448960.0, 850021312.0), (-16090144.0, -77075382272.0, -948026343424.0), (-897468661760.0, 1252301864960.0, -641550254080.0), (-216863277056.0, -451684663296.0, 374604398592.0), (-88737710080.0, 249515933696.0, -95488679936.0), (-83814265126912.0, -131765016461312.0, 24318908039168.0), (-226128625664.0, 79831777280.0, -75068555264.0), (-83108967743488.0, -53505356201984.0, -210814996840448.0), (-442367180800.0, -788336345088.0, -987039662080.0), (-1932070771228672.0, -4169131733549056.0, -4991961568116736.0), (452842356736.0, 39543758848.0, 119142932480.0), (40799630786560.0, -39663674851328.0, -27284631191552.0), (24264132608.0, -65377304576.0, 94979325952.0), (7945971891699712.0, -1.2454633138028544e+16, 9951193337954304.0), (-2241479835648.0, -2016810106880.0, 643353477120.0), (-11031656448.0, 200198029312.0, 130708660224.0), (6157252767514624.0, 1.313770903175168e+16, -2411407777726464.0), (-4600278024192.0, -12270497169408.0, -5699987832832.0), (7654733774848.0, -3228349235200.0, 2293379366912.0), (-998803832832.0, -2099088457728.0, 5570382266368.0), (-415465977413632.0, -1337335643897856.0, -220820123156480.0), (-310252601344.0, -68166713344.0, -75576549376.0), (7528286519296.0, -2221096828928.0, 6181662228480.0), (5367062855680.0, 3601187471360.0, 2801359126528.0), (1467298217984.0, -3506662014976.0, 3094353543168.0), (9092329373696.0, 37100942524416.0, 41523827703808.0), (160115621888.0, -121829277696.0, -119542276096.0), (2.4189334838470246e+17, 1.7081681077652685e+17, -2.603890409293742e+17), (217379955015680.0, 902544763125760.0, -1437667153674240.0), (2.555081198351155e+16, -7420018786566144.0, -3247099428732928.0), (-73132069093376.0, 15710803722240.0, 7117521027072.0), (-1088149560229888.0, 3864428768395264.0, -1.0638411727634432e+16), (23345070080.0, 6020062208.0, -86554361856.0), (491001802129408.0, -7031760093184.0, -256194547548160.0), (-843531354112.0, 7063698145280.0, 6989641416704.0), (-338561152.0, 15580196.0, 521047552.0), (653490847744.0, 1771180261376.0, 467451183104.0), (-1794837839872.0, -1420891783168.0, 184617271296.0), (91476754432.0, -279962648576.0, -344298258432.0), (2.888160378921943e+17, -4.0677996037668864e+17, -1.9384999883046912e+17), (-10649778176.0, 10516918272.0, 3053398272.0), (156151578624.0, -3959774464.0, -63275548672.0), (1374104977408.0, -8519599259648.0, 7867882536960.0), (-2800965648384.0, 1074050891776.0, -1605827035136.0), (3858070069313536.0, -2.138225631245107e+16, 179767533895680.0), (18296640372736.0, 21535521767424.0, 59009306460160.0), (-1935364742709248.0, -1572886548578304.0, -2798537607741440.0), (25514715136.0, -217877266432.0, 10186620928.0), (31466962944.0, -62890147840.0, -90863104.0), (-42923388928.0, -473423675392.0, -294221250560.0), (-114836725760.0, -28965650432.0, 65998032896.0), (-82896068608.0, -104379334656.0, -82494324736.0), (-10584296783872.0, 2145725317120.0, -15709974298624.0), (-1.354967155736576e+16, 3.5860511610372096e+16, -1.406934112534528e+16), (1136895459328.0, 333638041600.0, 39562436608.0), (8356947820544.0, 2982869991424.0, 11305870163968.0), (-410589822976.0, -1347737223168.0, 1619850166272.0), (44409778176.0, 73178259456.0, 28794494976.0), (-167029047296.0, 64436224000.0, 410407010304.0), (-2366386856787968.0, -971494490374144.0, 3041796770758656.0), (-3160029704224768.0, 1.0057021332127744e+16, -4203952375595008.0), (13099801247744.0, -6472534589440.0, -40774636929024.0), (-13605229559808.0, 20635830976512.0, -36431938453504.0), (-2079437407387648.0, -4235375966945280.0, -1476727465312256.0), (-53333075165184.0, 245047815569408.0, 319735048699904.0), (-7010191933440.0, 22299149336576.0, -6075668496384.0), (-653738115072.0, 114899304448.0, 101603082240.0), (-49493827387392.0, 56518716162048.0, 45391374450688.0), (8.06643786456236e+17, 9.222535171067085e+16, -8.658080948300022e+17), (-40231491338240.0, 40427885428736.0, 27113650388992.0), (-2234700032.0, -48229851136.0, 65111891968.0), (-4411894530048.0, -14679534469120.0, 12370811289600.0), (-924508487680.0, -714037460992.0, -1933818724352.0), (3947433820160.0, -16983238115328.0, 15841726824448.0), (-24443590.0, 8328520.0, 31322860.0), (59245088768.0, 60506300416.0, -27706525696.0), (-18107863040.0, -4920795648.0, 723730944.0), (-5015365632.0, -1233110016.0, -9127930880.0), (791979032576.0, -199145832448.0, -299671748608.0), (-1328009122414592.0, -8247561810870272.0, -1.2100563550339072e+16), (-847235776512.0, -909349093376.0, 1118472634368.0), (4568946481037312.0, 1140759554162688.0, -3927626527801344.0), (-537611468800.0, -15499751424.0, -66045603840.0), (20713304064.0, 11179784192.0, 21941221376.0), (-13310836604928.0, 6200725340160.0, 41358161084416.0), (35176381939712.0, -4476744761344.0, 67942330925056.0), (2366401083867136.0, 971774267228160.0, -3041841331044352.0), (3926093224476672.0, 7084082550800384.0, 5512200219262976.0), (4136517500928.0, 3964394799104.0, -185342558208.0), (-51056558080.0, 38183784448.0, -17987108864.0), (12408396800.0, -380397912064.0, 552981954560.0), (-357700948983808.0, -1006369289273344.0, 727551689359360.0), (889723144896512.0, -661314166849536.0, 420894849630208.0), (-3354975488.0, -655441408.0, 4151499008.0), (-11263916638208.0, 125501562880.0, -2832867000320.0), (25778876416.0, 9371600896.0, 2868823808.0), (2078110933581824.0, 4236243281903616.0, 1476365480099840.0), (-1.0926554641072128e+16, 18813925982208.0, 481477577932800.0), (22548209664.0, -472833753088.0, -11969423360.0), (119616036864.0, -625446223872.0, -388746936320.0), (22949625856.0, 25766709248.0, -18309652480.0), (-4.1116941695320064e+17, 1.048631297703936e+17, 1.4985761089021542e+17), (-1959199637504.0, -5000088518656.0, 12653083754496.0), (-2.053771584769884e+17, 3.494043169031455e+17, 2.656814198905897e+17), (-3579308933120.0, -7794956697600.0, 4567445012480.0), (-207038808064.0, 101559582720.0, 691593936896.0), (-1905755160576.0, 1488756539392.0, 4652209799168.0), (897148911616.0, 5086811136.0, 248659869696.0), (-49872203939840.0, 134891433885696.0, -49168303259648.0), (1373656320.0, -649741632.0, -783073088.0), (108464399450112.0, 125859344154624.0, 41822705418240.0), (1707248189440.0, -939021565952.0, -1446101254144.0), (-1.4055499519492096e+16, -3.022477793112883e+16, 2.4333903867150336e+16), (-10985994240.0, 7074756096.0, 23119519744.0), (-4.907169529190154e+17, 6.10339316895318e+17, -2.1200446481340826e+18), (3160464838098944.0, -1.005632232620032e+16, 4205201405771776.0), (-116426941661184.0, 41807723364352.0, -117588377993216.0), (-26176284262400.0, -71644005531648.0, 92117191884800.0), (119988543488.0, -220697640960.0, -1272683954176.0), (-88926937088.0, 476080046080.0, 204475138048.0), (11004171264.0, 79717351424.0, -48785539072.0), (-3232539489599488.0, 2391322900037632.0, 411760964141056.0), (1.873326141074519e+19, -6.4679832532644e+18, 1.2389022143873024e+19), (2033330799247360.0, 330975145885696.0, -1891748007641088.0), (49817477120.0, -48855236608.0, -35124666368.0), (639035899904.0, 1875066093568.0, 754982191104.0), (-488947264258048.0, 1177956923736064.0, -270146111275008.0), (-616375296.0, -113994014720.0, 14465504256.0), (415584760102912.0, 1337376311869440.0, 220897868775424.0), (-4568970103357440.0, -1140779149950976.0, 3927634849300480.0), (-3968677707776.0, 23682843934720.0, 8228611555328.0), (-142126383104.0, 62495404032.0, 68011110400.0), (3722771968.0, -20271546368.0, 10030577664.0), (-897560477696.0, 501262548992.0, 352843661312.0), (432671951945728.0, 129942129999872.0, -475043146498048.0), (-52947935232.0, -45903839232.0, 65838354432.0)] kJ/(nm mol)\n"
     ]
    }
   ],
   "source": [
    "# Set the positions\n",
    "context.setPositions(positions)\n",
    "# Retrieve the energy and forces\n",
    "state = context.getState(getEnergy=True, getForces=True)\n",
    "potential_energy = state.getPotentialEnergy()\n",
    "print('Potential energy: %s' % potential_energy)\n",
    "forces = state.getForces()\n",
    "print('Forces: %s' % forces)"
   ]
  },
  {
   "cell_type": "markdown",
   "metadata": {},
   "source": [
    "Note that the forces are returned as a `list` of tuples with units attached. If we want a numpy array instead, we could convert it, but it's much easier just use the `asNumpy=True` argument to [`state.getForces`](http://docs.openmm.org/7.1.0/api-python/generated/simtk.openmm.openmm.State.html#simtk.openmm.openmm.State.getForces)"
   ]
  },
  {
   "cell_type": "code",
   "execution_count": 9,
   "metadata": {},
   "outputs": [
    {
     "name": "stdout",
     "output_type": "stream",
     "text": [
      "Forces: [[ -4.46256749e+12  -3.66275618e+12   6.50621682e+11]\n",
      " [ -5.47405660e+10   5.41024092e+10   8.88181555e+10]\n",
      " [ -6.00674337e+11  -3.93414246e+11  -4.79606735e+11]\n",
      " ..., \n",
      " [ -8.97560478e+11   5.01262549e+11   3.52843661e+11]\n",
      " [  4.32671952e+14   1.29942130e+14  -4.75043146e+14]\n",
      " [ -5.29479352e+10  -4.59038392e+10   6.58383544e+10]] kJ/(nm mol)\n"
     ]
    }
   ],
   "source": [
    "# Get forces as numpy array\n",
    "forces = state.getForces(asNumpy=True)\n",
    "print('Forces: %s' % forces)"
   ]
  },
  {
   "cell_type": "markdown",
   "metadata": {},
   "source": [
    "## Minimizing the potential energy\n",
    "\n",
    "You'll notice the energy and force magnitude is pretty large:"
   ]
  },
  {
   "cell_type": "code",
   "execution_count": 10,
   "metadata": {},
   "outputs": [
    {
     "name": "stdout",
     "output_type": "stream",
     "text": [
      "Potential energy: 9.793183425006632e+17 kJ/mol\n",
      "Force magnitude: 1.3048765855244005e+21 kJ/(nm mol)\n"
     ]
    }
   ],
   "source": [
    "# Compute the energy\n",
    "state = context.getState(getEnergy=True, getForces=True)\n",
    "potential_energy = state.getPotentialEnergy()\n",
    "print('Potential energy: %s' % potential_energy)\n",
    "# Compute the force magnitude\n",
    "forces = state.getForces(asNumpy=True)\n",
    "force_magnitude = (forces**2).sum().sqrt()\n",
    "print('Force magnitude: %s' % force_magnitude)"
   ]
  },
  {
   "cell_type": "markdown",
   "metadata": {},
   "source": [
    "If we tried to do dynamics at this point, the system will likely explode!\n",
    "\n",
    "OpenMM provides a [`LocalEnergyMinimizer`](http://docs.openmm.org/7.1.0/api-python/generated/simtk.openmm.openmm.LocalEnergyMinimizer.html#simtk.openmm.openmm.LocalEnergyMinimizer) that can be used to bring the force magnitude to be low enough to be able to run a simulation that won't explode."
   ]
  },
  {
   "cell_type": "code",
   "execution_count": 11,
   "metadata": {},
   "outputs": [
    {
     "name": "stdout",
     "output_type": "stream",
     "text": [
      "Potential energy: -2655.3784486334807 kJ/mol\n",
      "Force magnitude: 337.1586399392351 kJ/(nm mol)\n"
     ]
    }
   ],
   "source": [
    "# Minimize the potential energy\n",
    "openmm.LocalEnergyMinimizer.minimize(context)\n",
    "\n",
    "# Compute the energy and force magnitude after minimization\n",
    "state = context.getState(getEnergy=True, getForces=True)\n",
    "potential_energy = state.getPotentialEnergy()\n",
    "print('Potential energy: %s' % potential_energy)\n",
    "forces = state.getForces(asNumpy=True)\n",
    "force_magnitude = (forces**2).sum().sqrt()\n",
    "print('Force magnitude: %s' % force_magnitude)"
   ]
  },
  {
   "cell_type": "markdown",
   "metadata": {},
   "source": [
    "## Serializing the System object to disk or for transport over the network\n",
    "\n",
    "You can serialize and restore `System` objects as a string (which can be written to disk) via the [`XmlSerializer`](http://docs.openmm.org/7.1.0/api-python/generated/simtk.openmm.openmm.XmlSerializer.html#simtk.openmm.openmm.XmlSerializer) class:"
   ]
  },
  {
   "cell_type": "code",
   "execution_count": 12,
   "metadata": {
    "collapsed": true
   },
   "outputs": [],
   "source": [
    "# Serialize to a string\n",
    "system_xml = openmm.XmlSerializer.serialize(system)\n",
    "# Restore from a string\n",
    "restored_system = openmm.XmlSerializer.deserialize(system_xml)\n",
    "assert(system.getNumParticles() == restored_system.getNumParticles())"
   ]
  },
  {
   "cell_type": "markdown",
   "metadata": {},
   "source": [
    "## Load a molecular system defined by AMBER, CHARMM, or gromacs\n",
    "\n",
    "The OpenMM [`app` layer](http://docs.openmm.org/7.1.0/userguide/application.html#using-amber-files) provides convenience classes that help you load in systems defined in AMBER, CHARMM, or gromacs. "
   ]
  },
  {
   "cell_type": "markdown",
   "metadata": {},
   "source": [
    "### Loading an AMBER system\n",
    "\n",
    "We can use [`AmberPrmtopFile`](http://docs.openmm.org/7.1.0/api-python/generated/simtk.openmm.app.amberprmtopfile.AmberPrmtopFile.html#simtk.openmm.app.amberprmtopfile.AmberPrmtopFile) to load an Amber `prmtop` file and [`InpcrdFile`](http://docs.openmm.org/7.1.0/api-python/generated/simtk.openmm.app.amberinpcrdfile.AmberInpcrdFile.html#simtk.openmm.app.amberinpcrdfile.AmberInpcrdFile) to load an `inpcrd` file:"
   ]
  },
  {
   "cell_type": "code",
   "execution_count": 13,
   "metadata": {},
   "outputs": [
    {
     "name": "stdout",
     "output_type": "stream",
     "text": [
      "Potential energy: -137.43955993652344 kJ/mol\n"
     ]
    }
   ],
   "source": [
    "# Load in an AMBER system\n",
    "from simtk.openmm import app\n",
    "prmtop = app.AmberPrmtopFile('resources/alanine-dipeptide-implicit.prmtop')\n",
    "inpcrd = app.AmberInpcrdFile('resources/alanine-dipeptide-implicit.inpcrd')\n",
    "system = prmtop.createSystem(nonbondedMethod=app.NoCutoff, implicitSolvent=app.OBC2)\n",
    "positions = inpcrd.getPositions(asNumpy=True)\n",
    "\n",
    "# Compute the potential energy\n",
    "integrator = openmm.VerletIntegrator(1.0 * unit.femtoseconds)\n",
    "context = openmm.Context(system, integrator)\n",
    "context.setPositions(positions)\n",
    "print('Potential energy: %s' % context.getState(getEnergy=True).getPotentialEnergy())"
   ]
  },
  {
   "cell_type": "code",
   "execution_count": null,
   "metadata": {},
   "outputs": [],
   "source": []
  },
  {
   "cell_type": "markdown",
   "metadata": {},
   "source": [
    "While the `System` objects don't contain any information on the *identities* of the particles or how these are organized into residues or molecules, we can extract a [`Topology`](http://docs.openmm.org/7.1.0/api-python/generated/simtk.openmm.app.topology.Topology.html#simtk.openmm.app.topology.Topology) object that provides this information from a PDB file:"
   ]
  },
  {
   "cell_type": "code",
   "execution_count": 14,
   "metadata": {},
   "outputs": [],
   "source": [
    "# Extract the topology from a PDB file\n",
    "pdbfile = app.PDBFile('resources/alanine-dipeptide-implicit.pdb')\n",
    "topology = pdbfile.getTopology()\n",
    "# We can use this to write out a PDB file\n",
    "with open('output.pdb', 'w') as outfile:\n",
    "    app.PDBFile.writeFile(topology, positions, outfile)"
   ]
  },
  {
   "cell_type": "code",
   "execution_count": 15,
   "metadata": {},
   "outputs": [
    {
     "name": "stderr",
     "output_type": "stream",
     "text": [
      "The installed widget Javascript is the wrong version.\n"
     ]
    }
   ],
   "source": [
    "# Create an MDTraj Trajectory object\n",
    "import mdtraj\n",
    "mdtraj_topology = mdtraj.Topology.from_openmm(topology)\n",
    "traj = mdtraj.Trajectory(positions/unit.nanometers, mdtraj_topology)\n",
    "\n",
    "# View it in nglview\n",
    "import nglview\n",
    "nglview.show_mdtraj(traj)"
   ]
  },
  {
   "cell_type": "code",
   "execution_count": null,
   "metadata": {
    "collapsed": true
   },
   "outputs": [],
   "source": []
  }
 ],
 "metadata": {
  "kernelspec": {
   "display_name": "Python 3",
   "language": "python",
   "name": "python3"
  },
  "language_info": {
   "codemirror_mode": {
    "name": "ipython",
    "version": 3
   },
   "file_extension": ".py",
   "mimetype": "text/x-python",
   "name": "python",
   "nbconvert_exporter": "python",
   "pygments_lexer": "ipython3",
   "version": "3.5.2"
  }
 },
 "nbformat": 4,
 "nbformat_minor": 2
}
