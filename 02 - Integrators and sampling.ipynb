{
 "cells": [
  {
   "cell_type": "markdown",
   "metadata": {},
   "source": [
    "# Integrators and sampling"
   ]
  },
  {
   "cell_type": "code",
   "execution_count": 1,
   "metadata": {
    "collapsed": true
   },
   "outputs": [],
   "source": [
    "# Preliminary imports\n",
    "from simtk import openmm, unit\n",
    "from simtk.openmm import app\n",
    "import numpy as np"
   ]
  },
  {
   "cell_type": "markdown",
   "metadata": {},
   "source": [
    "We'll the alanine dpeptide in vacuum imported from [`openmmtools`](http://openmmtools.readthedocs.io):"
   ]
  },
  {
   "cell_type": "code",
   "execution_count": 2,
   "metadata": {},
   "outputs": [],
   "source": [
    "# Create an alanine dipeptide in vacuum\n",
    "from openmmtools import testsystems\n",
    "t = testsystems.AlanineDipeptideVacuum()\n",
    "system, positions, topology = t.system, t.positions, t.topology"
   ]
  },
  {
   "cell_type": "markdown",
   "metadata": {},
   "source": [
    "## Built-in OpenMM integrators\n",
    "\n",
    "OpenMM provides a number of built-in [`Integrators`](http://docs.openmm.org/7.1.0/userguide/application.html#integrators) that may be useful for your intended application, but also provides a very flexible way to efficiently define new integrators that can still be executed very efficiently on the GPU.\n",
    "\n",
    "All OpenMM integrators are derived from the [`Integrator`](http://docs.openmm.org/7.1.0/api-python/generated/simtk.openmm.openmm.Integrator.html#simtk.openmm.openmm.Integrator) base class that provides some baseline functionality such that all integrators work the same way. We first have to bind an integrator to a `Context`. "
   ]
  },
  {
   "cell_type": "code",
   "execution_count": 3,
   "metadata": {},
   "outputs": [],
   "source": [
    "# Create a new integrator since the previously-created integrator was irrevocably bound to the previous Context\n",
    "temperature = 298.0 * unit.kelvin\n",
    "collision_rate = 91.0 / unit.picosecond\n",
    "timestep = 2.0 * unit.femtoseconds\n",
    "integrator = openmm.LangevinIntegrator(temperature, collision_rate, timestep)\n",
    "# Create a Context for this integrator\n",
    "context = openmm.Context(system, integrator)\n",
    "# Set the positions\n",
    "context.setPositions(positions)\n",
    "# Minimize the potential energy\n",
    "openmm.LocalEnergyMinimizer.minimize(context)"
   ]
  },
  {
   "cell_type": "markdown",
   "metadata": {},
   "source": [
    "The initial velocities are, by default, zero, but we can select initial velocities from the Maxwell distribution with [`context.setVelocitiesToTemperature()`](http://docs.openmm.org/7.1.0/api-python/generated/simtk.openmm.openmm.Context.html#simtk.openmm.openmm.Context.setVelocitiesToTemperature):"
   ]
  },
  {
   "cell_type": "code",
   "execution_count": 4,
   "metadata": {
    "collapsed": true
   },
   "outputs": [],
   "source": [
    "# Set velocities from Maxwell-Boltzmann distribution\n",
    "context.setVelocitiesToTemperature(temperature)"
   ]
  },
  {
   "cell_type": "markdown",
   "metadata": {},
   "source": [
    "To integrate a trajectory, we call [`integrator.step`](http://docs.openmm.org/7.1.0/api-python/generated/simtk.openmm.openmm.Integrator.html#simtk.openmm.openmm.Integrator.step):"
   ]
  },
  {
   "cell_type": "code",
   "execution_count": 5,
   "metadata": {
    "collapsed": true
   },
   "outputs": [],
   "source": [
    "# Integrate some dynamics\n",
    "nsteps = 100 # number of integrator steps\n",
    "integrator.step(nsteps)"
   ]
  },
  {
   "cell_type": "markdown",
   "metadata": {},
   "source": [
    "We can write a little loop to report some information every few timesteps:"
   ]
  },
  {
   "cell_type": "code",
   "execution_count": 6,
   "metadata": {},
   "outputs": [
    {
     "name": "stdout",
     "output_type": "stream",
     "text": [
      "   0.400 ps : potential   -68.436951 kJ/mol\n",
      "   0.600 ps : potential   -61.800964 kJ/mol\n",
      "   0.800 ps : potential   -40.621155 kJ/mol\n",
      "   1.000 ps : potential   -34.496613 kJ/mol\n",
      "   1.200 ps : potential   -70.815399 kJ/mol\n",
      "   1.400 ps : potential   -84.974030 kJ/mol\n",
      "   1.600 ps : potential   -55.529419 kJ/mol\n",
      "   1.800 ps : potential   -62.479706 kJ/mol\n",
      "   2.000 ps : potential   -40.549622 kJ/mol\n",
      "   2.200 ps : potential   -70.531708 kJ/mol\n"
     ]
    }
   ],
   "source": [
    "# Run a few iterations of a few steps each, reporting potential energy\n",
    "for iteration in range(10):\n",
    "    integrator.step(100)\n",
    "    state = context.getState(getEnergy=True)\n",
    "    print('%8.3f ps : potential %12.6f kJ/mol' % (state.getTime() / unit.picoseconds, state.getPotentialEnergy() / unit.kilojoules_per_mole))"
   ]
  },
  {
   "cell_type": "markdown",
   "metadata": {
    "collapsed": true
   },
   "source": [
    "## The `Simulation` convenience class\n",
    "\n",
    "While we could write our own wrapper to run a simulation and write data to disk, OpenMM's [`app` layer](http://docs.openmm.org/7.1.0/api-python/app.html) provides the [`Simulation` class](http://docs.openmm.org/7.1.0/api-python/generated/simtk.openmm.app.simulation.Simulation.html#simtk.openmm.app.simulation.Simulation) to help you do this using a modular Python-based plugin architecture to specify which and how data should be stored. The [user guide](http://docs.openmm.org/7.1.0/userguide/application.html#a-first-example) provides a nice overview of this.\n",
    "\n",
    "### Running a `Simulation` that writes data to the terminal\n",
    "\n",
    "For example, to run a simulation that prints data to the terminal, we can use:"
   ]
  },
  {
   "cell_type": "code",
   "execution_count": 12,
   "metadata": {},
   "outputs": [
    {
     "name": "stdout",
     "output_type": "stream",
     "text": [
      "#\"Step\",\"Potential Energy (kJ/mole)\",\"Temperature (K)\"\n",
      "100,-61.313568115234375,425.8075566049049\n",
      "200,-65.38375854492188,279.1580486730683\n",
      "300,-62.656982421875,265.4442317011469\n",
      "400,-77.123046875,243.26907561476625\n",
      "500,-56.972503662109375,273.6312775592466\n",
      "600,-56.6046142578125,280.64286921973286\n",
      "700,-69.30050659179688,263.5317931727405\n",
      "800,-62.92010498046875,353.51756761749607\n",
      "900,-56.76007080078125,303.6434881210641\n",
      "1000,-50.563201904296875,409.50442908839824\n"
     ]
    }
   ],
   "source": [
    "from sys import stdout\n",
    "integrator = openmm.LangevinIntegrator(temperature, collision_rate, timestep)\n",
    "simulation = app.Simulation(topology, system, integrator)\n",
    "simulation.context.setPositions(positions)\n",
    "simulation.minimizeEnergy()\n",
    "simulation.reporters.append(app.StateDataReporter(stdout, 100, step=True, potentialEnergy=True, temperature=True))\n",
    "simulation.step(1000)"
   ]
  },
  {
   "cell_type": "markdown",
   "metadata": {
    "collapsed": true
   },
   "source": [
    "### Running a `Simulation` that writes a trajectory\n",
    "\n",
    "For example, to run a simulation that writes data in the extensible MDTraj HDF5 format, Amber NetCDF format, or CHARMM DCD format, we can use the [MDTraj Reporters](http://mdtraj.org/1.6.2/api/reporters.html):"
   ]
  },
  {
   "cell_type": "code",
   "execution_count": 19,
   "metadata": {},
   "outputs": [
    {
     "name": "stderr",
     "output_type": "stream",
     "text": [
      "/Users/choderaj/miniconda3/lib/python3.5/site-packages/mdtraj/utils/validation.py:116: TypeCastPerformanceWarning: Casting xyz dtype=float64 to <class 'numpy.float32'> \n",
      "  TypeCastPerformanceWarning)\n"
     ]
    }
   ],
   "source": [
    "import mdtraj\n",
    "integrator = openmm.LangevinIntegrator(temperature, collision_rate, timestep)\n",
    "simulation = app.Simulation(topology, system, integrator)\n",
    "simulation.context.setPositions(positions)\n",
    "simulation.minimizeEnergy()\n",
    "reportInterval = 100\n",
    "simulation.reporters.append(mdtraj.reporters.HDF5Reporter('output.h5', reportInterval, coordinates=True, time=True, cell=True, potentialEnergy=True, temperature=True))\n",
    "simulation.reporters.append(mdtraj.reporters.DCDReporter('output.dcd', reportInterval))\n",
    "simulation.reporters.append(mdtraj.reporters.NetCDFReporter('output.nc', reportInterval))\n",
    "simulation.step(1000)"
   ]
  },
  {
   "cell_type": "code",
   "execution_count": null,
   "metadata": {
    "collapsed": true
   },
   "outputs": [],
   "source": []
  }
 ],
 "metadata": {
  "kernelspec": {
   "display_name": "Python 3",
   "language": "python",
   "name": "python3"
  },
  "language_info": {
   "codemirror_mode": {
    "name": "ipython",
    "version": 3
   },
   "file_extension": ".py",
   "mimetype": "text/x-python",
   "name": "python",
   "nbconvert_exporter": "python",
   "pygments_lexer": "ipython3",
   "version": "3.5.2"
  }
 },
 "nbformat": 4,
 "nbformat_minor": 2
}
