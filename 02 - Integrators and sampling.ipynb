{
 "cells": [
  {
   "cell_type": "markdown",
   "metadata": {},
   "source": [
    "# Integrators and sampling"
   ]
  },
  {
   "cell_type": "code",
   "execution_count": 56,
   "metadata": {
    "collapsed": true
   },
   "outputs": [],
   "source": [
    "# Preliminary imports\n",
    "from simtk import openmm, unit\n",
    "import numpy as np"
   ]
  },
  {
   "cell_type": "markdown",
   "metadata": {},
   "source": [
    "We'll use a Lennard-Jones system again, this time imported from [`openmmtools`](http://openmmtools.readthedocs.io):"
   ]
  },
  {
   "cell_type": "code",
   "execution_count": 57,
   "metadata": {},
   "outputs": [],
   "source": [
    "# Create a Lennard-Jones fluid\n",
    "nparticles = 512\n",
    "reduced_density = 0.8\n",
    "mass = 39.9 * unit.amu\n",
    "charge = 0.0 * unit.elementary_charge\n",
    "sigma = 3.4 * unit.angstroms\n",
    "epsilon = 0.238 * unit.kilocalories_per_mole\n",
    "from openmmtools import testsystems\n",
    "testsystem = testsystems.LennardJonesFluid(nparticles=nparticles, mass=mass, reduced_density=reduced_density, sigma=sigma, epsilon=epsilon, switch_width=0.5*sigma, cutoff=3*sigma)\n",
    "system, positions = testsystem.system, testsystem.positions"
   ]
  },
  {
   "cell_type": "markdown",
   "metadata": {},
   "source": [
    "## Built-in OpenMM integrators\n",
    "\n",
    "OpenMM provides a number of built-in [`Integrators`](http://docs.openmm.org/7.1.0/userguide/application.html#integrators) that may be useful for your intended application, but also provides a very flexible way to efficiently define new integrators that can still be executed very efficiently on the GPU.\n",
    "\n",
    "All OpenMM integrators are derived from the [`Integrator`](http://docs.openmm.org/7.1.0/api-python/generated/simtk.openmm.openmm.Integrator.html#simtk.openmm.openmm.Integrator) base class that provides some baseline functionality such that all integrators work the same way. We first have to bind an integrator to a `Context`. "
   ]
  },
  {
   "cell_type": "code",
   "execution_count": 63,
   "metadata": {},
   "outputs": [],
   "source": [
    "# Create a new integrator since the previously-created integrator was irrevocably bound to the previous Context\n",
    "temperature = 0.9 * (epsilon / (unit.BOLTZMANN_CONSTANT_kB * unit.AVOGADRO_CONSTANT_NA))\n",
    "timescale = 0.09354 * unit.sqrt((mass * sigma**2) / epsilon) # relevant timescale for Lennard-Jones vibration\n",
    "collision_rate = 1.0 / timescale\n",
    "timestep = 0.1 * timescale\n",
    "integrator = openmm.LangevinIntegrator(temperature, collision_rate, timestep)\n",
    "# Create a Context for this integrator\n",
    "context = openmm.Context(system, integrator)\n",
    "# Set the positions\n",
    "context.setPositions(positions)\n",
    "# Minimize the potential energy\n",
    "openmm.LocalEnergyMinimizer.minimize(context)"
   ]
  },
  {
   "cell_type": "markdown",
   "metadata": {},
   "source": [
    "The initial velocities are, by default, zero, but we can select initial velocities from the Maxwell distribution with [`context.setVelocitiesToTemperature()`](http://docs.openmm.org/7.1.0/api-python/generated/simtk.openmm.openmm.Context.html#simtk.openmm.openmm.Context.setVelocitiesToTemperature):"
   ]
  },
  {
   "cell_type": "code",
   "execution_count": 64,
   "metadata": {},
   "outputs": [],
   "source": [
    "# Set velocities from Maxwell-Boltzmann distribution\n",
    "context.setVelocitiesToTemperature(temperature)"
   ]
  },
  {
   "cell_type": "markdown",
   "metadata": {},
   "source": [
    "To integrate a trajectory, we call [`integrator.step`](http://docs.openmm.org/7.1.0/api-python/generated/simtk.openmm.openmm.Integrator.html#simtk.openmm.openmm.Integrator.step):"
   ]
  },
  {
   "cell_type": "code",
   "execution_count": 65,
   "metadata": {},
   "outputs": [],
   "source": [
    "# Integrate some dynamics\n",
    "nsteps = 100 # number of integrator steps\n",
    "integrator.step(nsteps)"
   ]
  },
  {
   "cell_type": "markdown",
   "metadata": {},
   "source": [
    "We can write a little loop to report some information every few timesteps:"
   ]
  },
  {
   "cell_type": "code",
   "execution_count": 66,
   "metadata": {},
   "outputs": [
    {
     "name": "stdout",
     "output_type": "stream",
     "text": [
      "   4.026 ps : potential -2850.972660 kJ/mol\n",
      "   6.039 ps : potential -2858.054691 kJ/mol\n",
      "   8.053 ps : potential -2841.517826 kJ/mol\n",
      "  10.066 ps : potential -2851.142338 kJ/mol\n",
      "  12.079 ps : potential -2852.352299 kJ/mol\n",
      "  14.092 ps : potential -2852.897709 kJ/mol\n",
      "  16.105 ps : potential -2864.873295 kJ/mol\n",
      "  18.118 ps : potential -2897.962406 kJ/mol\n",
      "  20.132 ps : potential -2893.789066 kJ/mol\n",
      "  22.145 ps : potential -2849.431156 kJ/mol\n"
     ]
    }
   ],
   "source": [
    "# Run a few iterations of a few steps each, reporting potential energy\n",
    "for iteration in range(10):\n",
    "    integrator.step(100)\n",
    "    state = context.getState(getEnergy=True)\n",
    "    print('%8.3f ps : potential %12.6f kJ/mol' % (state.getTime() / unit.picoseconds, state.getPotentialEnergy() / unit.kilojoules_per_mole))"
   ]
  },
  {
   "cell_type": "code",
   "execution_count": 70,
   "metadata": {
    "collapsed": true
   },
   "outputs": [],
   "source": []
  },
  {
   "cell_type": "code",
   "execution_count": null,
   "metadata": {
    "collapsed": true
   },
   "outputs": [],
   "source": []
  }
 ],
 "metadata": {
  "kernelspec": {
   "display_name": "Python 3",
   "language": "python",
   "name": "python3"
  },
  "language_info": {
   "codemirror_mode": {
    "name": "ipython",
    "version": 3
   },
   "file_extension": ".py",
   "mimetype": "text/x-python",
   "name": "python",
   "nbconvert_exporter": "python",
   "pygments_lexer": "ipython3",
   "version": "3.5.2"
  }
 },
 "nbformat": 4,
 "nbformat_minor": 2
}
